{
  "cells": [
    {
      "cell_type": "markdown",
      "metadata": {
        "id": "0MRC0e0KhQ0S"
      },
      "source": [
        "# K-Nearest Neighbors (K-NN)"
      ]
    },
    {
      "cell_type": "markdown",
      "metadata": {
        "id": "LWd1UlMnhT2s"
      },
      "source": [
        "## Importing the libraries"
      ]
    },
    {
      "cell_type": "code",
      "execution_count": 4,
      "metadata": {
        "id": "YvGPUQaHhXfL"
      },
      "outputs": [],
      "source": [
        "import numpy as np\n",
        "import matplotlib.pyplot as plt\n",
        "import pandas as pd"
      ]
    },
    {
      "cell_type": "code",
      "execution_count": 5,
      "metadata": {
        "id": "vHMqBOhWEQCN",
        "outputId": "6fe7a75c-39d7-4109-c2ce-faba9f278d93",
        "colab": {
          "base_uri": "https://localhost:8080/"
        }
      },
      "outputs": [
        {
          "output_type": "stream",
          "name": "stdout",
          "text": [
            "--2025-01-11 06:44:38--  https://raw.githubusercontent.com/Wayan123/dataset-ml/main/loan_prediction.csv\n",
            "Resolving raw.githubusercontent.com (raw.githubusercontent.com)... 185.199.108.133, 185.199.109.133, 185.199.110.133, ...\n",
            "Connecting to raw.githubusercontent.com (raw.githubusercontent.com)|185.199.108.133|:443... connected.\n",
            "HTTP request sent, awaiting response... 200 OK\n",
            "Length: 18131 (18K) [text/plain]\n",
            "Saving to: ‘loan_prediction.csv.2’\n",
            "\n",
            "loan_prediction.csv 100%[===================>]  17.71K  --.-KB/s    in 0.005s  \n",
            "\n",
            "2025-01-11 06:44:38 (3.75 MB/s) - ‘loan_prediction.csv.2’ saved [18131/18131]\n",
            "\n"
          ]
        }
      ],
      "source": [
        "!wget https://raw.githubusercontent.com/Wayan123/dataset-ml/main/loan_prediction.csv"
      ]
    },
    {
      "cell_type": "markdown",
      "metadata": {
        "id": "K1VMqkGvhc3-"
      },
      "source": [
        "## Importing the dataset"
      ]
    },
    {
      "cell_type": "code",
      "execution_count": 6,
      "metadata": {
        "id": "M52QDmyzhh9s"
      },
      "outputs": [],
      "source": [
        "dataset = pd.read_csv('loan_prediction.csv')\n",
        "X = dataset.iloc[:, :-1].values\n",
        "y = dataset.iloc[:, -1].values"
      ]
    },
    {
      "cell_type": "code",
      "execution_count": 7,
      "metadata": {
        "colab": {
          "base_uri": "https://localhost:8080/",
          "height": 206
        },
        "id": "oR3b6w66JmXl",
        "outputId": "7370a079-c2e4-4c87-e608-9343225dee18"
      },
      "outputs": [
        {
          "output_type": "execute_result",
          "data": {
            "text/plain": [
              "   ApplicantIncome  CoapplicantIncome  LoanAmount  Loan_Amount_Term  \\\n",
              "0             5849                0.0         0.0             360.0   \n",
              "1             4583             1508.0       128.0             360.0   \n",
              "2             3000                0.0        66.0             360.0   \n",
              "3             2583             2358.0       120.0             360.0   \n",
              "4             6000                0.0       141.0             360.0   \n",
              "\n",
              "   Credit_History  Loan_Status  \n",
              "0             1.0            1  \n",
              "1             1.0            0  \n",
              "2             1.0            1  \n",
              "3             1.0            1  \n",
              "4             1.0            1  "
            ],
            "text/html": [
              "\n",
              "  <div id=\"df-456a1e3a-b82d-4cd1-8a53-f8fa4d6e64b1\" class=\"colab-df-container\">\n",
              "    <div>\n",
              "<style scoped>\n",
              "    .dataframe tbody tr th:only-of-type {\n",
              "        vertical-align: middle;\n",
              "    }\n",
              "\n",
              "    .dataframe tbody tr th {\n",
              "        vertical-align: top;\n",
              "    }\n",
              "\n",
              "    .dataframe thead th {\n",
              "        text-align: right;\n",
              "    }\n",
              "</style>\n",
              "<table border=\"1\" class=\"dataframe\">\n",
              "  <thead>\n",
              "    <tr style=\"text-align: right;\">\n",
              "      <th></th>\n",
              "      <th>ApplicantIncome</th>\n",
              "      <th>CoapplicantIncome</th>\n",
              "      <th>LoanAmount</th>\n",
              "      <th>Loan_Amount_Term</th>\n",
              "      <th>Credit_History</th>\n",
              "      <th>Loan_Status</th>\n",
              "    </tr>\n",
              "  </thead>\n",
              "  <tbody>\n",
              "    <tr>\n",
              "      <th>0</th>\n",
              "      <td>5849</td>\n",
              "      <td>0.0</td>\n",
              "      <td>0.0</td>\n",
              "      <td>360.0</td>\n",
              "      <td>1.0</td>\n",
              "      <td>1</td>\n",
              "    </tr>\n",
              "    <tr>\n",
              "      <th>1</th>\n",
              "      <td>4583</td>\n",
              "      <td>1508.0</td>\n",
              "      <td>128.0</td>\n",
              "      <td>360.0</td>\n",
              "      <td>1.0</td>\n",
              "      <td>0</td>\n",
              "    </tr>\n",
              "    <tr>\n",
              "      <th>2</th>\n",
              "      <td>3000</td>\n",
              "      <td>0.0</td>\n",
              "      <td>66.0</td>\n",
              "      <td>360.0</td>\n",
              "      <td>1.0</td>\n",
              "      <td>1</td>\n",
              "    </tr>\n",
              "    <tr>\n",
              "      <th>3</th>\n",
              "      <td>2583</td>\n",
              "      <td>2358.0</td>\n",
              "      <td>120.0</td>\n",
              "      <td>360.0</td>\n",
              "      <td>1.0</td>\n",
              "      <td>1</td>\n",
              "    </tr>\n",
              "    <tr>\n",
              "      <th>4</th>\n",
              "      <td>6000</td>\n",
              "      <td>0.0</td>\n",
              "      <td>141.0</td>\n",
              "      <td>360.0</td>\n",
              "      <td>1.0</td>\n",
              "      <td>1</td>\n",
              "    </tr>\n",
              "  </tbody>\n",
              "</table>\n",
              "</div>\n",
              "    <div class=\"colab-df-buttons\">\n",
              "\n",
              "  <div class=\"colab-df-container\">\n",
              "    <button class=\"colab-df-convert\" onclick=\"convertToInteractive('df-456a1e3a-b82d-4cd1-8a53-f8fa4d6e64b1')\"\n",
              "            title=\"Convert this dataframe to an interactive table.\"\n",
              "            style=\"display:none;\">\n",
              "\n",
              "  <svg xmlns=\"http://www.w3.org/2000/svg\" height=\"24px\" viewBox=\"0 -960 960 960\">\n",
              "    <path d=\"M120-120v-720h720v720H120Zm60-500h600v-160H180v160Zm220 220h160v-160H400v160Zm0 220h160v-160H400v160ZM180-400h160v-160H180v160Zm440 0h160v-160H620v160ZM180-180h160v-160H180v160Zm440 0h160v-160H620v160Z\"/>\n",
              "  </svg>\n",
              "    </button>\n",
              "\n",
              "  <style>\n",
              "    .colab-df-container {\n",
              "      display:flex;\n",
              "      gap: 12px;\n",
              "    }\n",
              "\n",
              "    .colab-df-convert {\n",
              "      background-color: #E8F0FE;\n",
              "      border: none;\n",
              "      border-radius: 50%;\n",
              "      cursor: pointer;\n",
              "      display: none;\n",
              "      fill: #1967D2;\n",
              "      height: 32px;\n",
              "      padding: 0 0 0 0;\n",
              "      width: 32px;\n",
              "    }\n",
              "\n",
              "    .colab-df-convert:hover {\n",
              "      background-color: #E2EBFA;\n",
              "      box-shadow: 0px 1px 2px rgba(60, 64, 67, 0.3), 0px 1px 3px 1px rgba(60, 64, 67, 0.15);\n",
              "      fill: #174EA6;\n",
              "    }\n",
              "\n",
              "    .colab-df-buttons div {\n",
              "      margin-bottom: 4px;\n",
              "    }\n",
              "\n",
              "    [theme=dark] .colab-df-convert {\n",
              "      background-color: #3B4455;\n",
              "      fill: #D2E3FC;\n",
              "    }\n",
              "\n",
              "    [theme=dark] .colab-df-convert:hover {\n",
              "      background-color: #434B5C;\n",
              "      box-shadow: 0px 1px 3px 1px rgba(0, 0, 0, 0.15);\n",
              "      filter: drop-shadow(0px 1px 2px rgba(0, 0, 0, 0.3));\n",
              "      fill: #FFFFFF;\n",
              "    }\n",
              "  </style>\n",
              "\n",
              "    <script>\n",
              "      const buttonEl =\n",
              "        document.querySelector('#df-456a1e3a-b82d-4cd1-8a53-f8fa4d6e64b1 button.colab-df-convert');\n",
              "      buttonEl.style.display =\n",
              "        google.colab.kernel.accessAllowed ? 'block' : 'none';\n",
              "\n",
              "      async function convertToInteractive(key) {\n",
              "        const element = document.querySelector('#df-456a1e3a-b82d-4cd1-8a53-f8fa4d6e64b1');\n",
              "        const dataTable =\n",
              "          await google.colab.kernel.invokeFunction('convertToInteractive',\n",
              "                                                    [key], {});\n",
              "        if (!dataTable) return;\n",
              "\n",
              "        const docLinkHtml = 'Like what you see? Visit the ' +\n",
              "          '<a target=\"_blank\" href=https://colab.research.google.com/notebooks/data_table.ipynb>data table notebook</a>'\n",
              "          + ' to learn more about interactive tables.';\n",
              "        element.innerHTML = '';\n",
              "        dataTable['output_type'] = 'display_data';\n",
              "        await google.colab.output.renderOutput(dataTable, element);\n",
              "        const docLink = document.createElement('div');\n",
              "        docLink.innerHTML = docLinkHtml;\n",
              "        element.appendChild(docLink);\n",
              "      }\n",
              "    </script>\n",
              "  </div>\n",
              "\n",
              "\n",
              "<div id=\"df-7f0e339e-5bdc-44ef-ad90-8f8ad6433cd1\">\n",
              "  <button class=\"colab-df-quickchart\" onclick=\"quickchart('df-7f0e339e-5bdc-44ef-ad90-8f8ad6433cd1')\"\n",
              "            title=\"Suggest charts\"\n",
              "            style=\"display:none;\">\n",
              "\n",
              "<svg xmlns=\"http://www.w3.org/2000/svg\" height=\"24px\"viewBox=\"0 0 24 24\"\n",
              "     width=\"24px\">\n",
              "    <g>\n",
              "        <path d=\"M19 3H5c-1.1 0-2 .9-2 2v14c0 1.1.9 2 2 2h14c1.1 0 2-.9 2-2V5c0-1.1-.9-2-2-2zM9 17H7v-7h2v7zm4 0h-2V7h2v10zm4 0h-2v-4h2v4z\"/>\n",
              "    </g>\n",
              "</svg>\n",
              "  </button>\n",
              "\n",
              "<style>\n",
              "  .colab-df-quickchart {\n",
              "      --bg-color: #E8F0FE;\n",
              "      --fill-color: #1967D2;\n",
              "      --hover-bg-color: #E2EBFA;\n",
              "      --hover-fill-color: #174EA6;\n",
              "      --disabled-fill-color: #AAA;\n",
              "      --disabled-bg-color: #DDD;\n",
              "  }\n",
              "\n",
              "  [theme=dark] .colab-df-quickchart {\n",
              "      --bg-color: #3B4455;\n",
              "      --fill-color: #D2E3FC;\n",
              "      --hover-bg-color: #434B5C;\n",
              "      --hover-fill-color: #FFFFFF;\n",
              "      --disabled-bg-color: #3B4455;\n",
              "      --disabled-fill-color: #666;\n",
              "  }\n",
              "\n",
              "  .colab-df-quickchart {\n",
              "    background-color: var(--bg-color);\n",
              "    border: none;\n",
              "    border-radius: 50%;\n",
              "    cursor: pointer;\n",
              "    display: none;\n",
              "    fill: var(--fill-color);\n",
              "    height: 32px;\n",
              "    padding: 0;\n",
              "    width: 32px;\n",
              "  }\n",
              "\n",
              "  .colab-df-quickchart:hover {\n",
              "    background-color: var(--hover-bg-color);\n",
              "    box-shadow: 0 1px 2px rgba(60, 64, 67, 0.3), 0 1px 3px 1px rgba(60, 64, 67, 0.15);\n",
              "    fill: var(--button-hover-fill-color);\n",
              "  }\n",
              "\n",
              "  .colab-df-quickchart-complete:disabled,\n",
              "  .colab-df-quickchart-complete:disabled:hover {\n",
              "    background-color: var(--disabled-bg-color);\n",
              "    fill: var(--disabled-fill-color);\n",
              "    box-shadow: none;\n",
              "  }\n",
              "\n",
              "  .colab-df-spinner {\n",
              "    border: 2px solid var(--fill-color);\n",
              "    border-color: transparent;\n",
              "    border-bottom-color: var(--fill-color);\n",
              "    animation:\n",
              "      spin 1s steps(1) infinite;\n",
              "  }\n",
              "\n",
              "  @keyframes spin {\n",
              "    0% {\n",
              "      border-color: transparent;\n",
              "      border-bottom-color: var(--fill-color);\n",
              "      border-left-color: var(--fill-color);\n",
              "    }\n",
              "    20% {\n",
              "      border-color: transparent;\n",
              "      border-left-color: var(--fill-color);\n",
              "      border-top-color: var(--fill-color);\n",
              "    }\n",
              "    30% {\n",
              "      border-color: transparent;\n",
              "      border-left-color: var(--fill-color);\n",
              "      border-top-color: var(--fill-color);\n",
              "      border-right-color: var(--fill-color);\n",
              "    }\n",
              "    40% {\n",
              "      border-color: transparent;\n",
              "      border-right-color: var(--fill-color);\n",
              "      border-top-color: var(--fill-color);\n",
              "    }\n",
              "    60% {\n",
              "      border-color: transparent;\n",
              "      border-right-color: var(--fill-color);\n",
              "    }\n",
              "    80% {\n",
              "      border-color: transparent;\n",
              "      border-right-color: var(--fill-color);\n",
              "      border-bottom-color: var(--fill-color);\n",
              "    }\n",
              "    90% {\n",
              "      border-color: transparent;\n",
              "      border-bottom-color: var(--fill-color);\n",
              "    }\n",
              "  }\n",
              "</style>\n",
              "\n",
              "  <script>\n",
              "    async function quickchart(key) {\n",
              "      const quickchartButtonEl =\n",
              "        document.querySelector('#' + key + ' button');\n",
              "      quickchartButtonEl.disabled = true;  // To prevent multiple clicks.\n",
              "      quickchartButtonEl.classList.add('colab-df-spinner');\n",
              "      try {\n",
              "        const charts = await google.colab.kernel.invokeFunction(\n",
              "            'suggestCharts', [key], {});\n",
              "      } catch (error) {\n",
              "        console.error('Error during call to suggestCharts:', error);\n",
              "      }\n",
              "      quickchartButtonEl.classList.remove('colab-df-spinner');\n",
              "      quickchartButtonEl.classList.add('colab-df-quickchart-complete');\n",
              "    }\n",
              "    (() => {\n",
              "      let quickchartButtonEl =\n",
              "        document.querySelector('#df-7f0e339e-5bdc-44ef-ad90-8f8ad6433cd1 button');\n",
              "      quickchartButtonEl.style.display =\n",
              "        google.colab.kernel.accessAllowed ? 'block' : 'none';\n",
              "    })();\n",
              "  </script>\n",
              "</div>\n",
              "\n",
              "    </div>\n",
              "  </div>\n"
            ],
            "application/vnd.google.colaboratory.intrinsic+json": {
              "type": "dataframe",
              "variable_name": "dataset",
              "summary": "{\n  \"name\": \"dataset\",\n  \"rows\": 614,\n  \"fields\": [\n    {\n      \"column\": \"ApplicantIncome\",\n      \"properties\": {\n        \"dtype\": \"number\",\n        \"std\": 6109,\n        \"min\": 150,\n        \"max\": 81000,\n        \"num_unique_values\": 505,\n        \"samples\": [\n          8333,\n          4342,\n          16120\n        ],\n        \"semantic_type\": \"\",\n        \"description\": \"\"\n      }\n    },\n    {\n      \"column\": \"CoapplicantIncome\",\n      \"properties\": {\n        \"dtype\": \"number\",\n        \"std\": 2926.2483692241917,\n        \"min\": 0.0,\n        \"max\": 41667.0,\n        \"num_unique_values\": 287,\n        \"samples\": [\n          1840.0,\n          2042.0,\n          2426.0\n        ],\n        \"semantic_type\": \"\",\n        \"description\": \"\"\n      }\n    },\n    {\n      \"column\": \"LoanAmount\",\n      \"properties\": {\n        \"dtype\": \"number\",\n        \"std\": 88.3406303719299,\n        \"min\": 0.0,\n        \"max\": 700.0,\n        \"num_unique_values\": 204,\n        \"samples\": [\n          125.0,\n          349.0,\n          127.0\n        ],\n        \"semantic_type\": \"\",\n        \"description\": \"\"\n      }\n    },\n    {\n      \"column\": \"Loan_Amount_Term\",\n      \"properties\": {\n        \"dtype\": \"number\",\n        \"std\": 82.18388403769698,\n        \"min\": 0.0,\n        \"max\": 480.0,\n        \"num_unique_values\": 11,\n        \"samples\": [\n          60.0,\n          360.0,\n          84.0\n        ],\n        \"semantic_type\": \"\",\n        \"description\": \"\"\n      }\n    },\n    {\n      \"column\": \"Credit_History\",\n      \"properties\": {\n        \"dtype\": \"number\",\n        \"std\": 0.4188319290744672,\n        \"min\": 0.0,\n        \"max\": 1.0,\n        \"num_unique_values\": 2,\n        \"samples\": [\n          0.0,\n          1.0\n        ],\n        \"semantic_type\": \"\",\n        \"description\": \"\"\n      }\n    },\n    {\n      \"column\": \"Loan_Status\",\n      \"properties\": {\n        \"dtype\": \"number\",\n        \"std\": 0,\n        \"min\": 0,\n        \"max\": 1,\n        \"num_unique_values\": 2,\n        \"samples\": [\n          0,\n          1\n        ],\n        \"semantic_type\": \"\",\n        \"description\": \"\"\n      }\n    }\n  ]\n}"
            }
          },
          "metadata": {},
          "execution_count": 7
        }
      ],
      "source": [
        "dataset.head()"
      ]
    },
    {
      "cell_type": "markdown",
      "metadata": {
        "id": "YvxIPVyMhmKp"
      },
      "source": [
        "## Splitting the dataset into the Training set and Test set"
      ]
    },
    {
      "cell_type": "code",
      "execution_count": 8,
      "metadata": {
        "id": "AVzJWAXIhxoC"
      },
      "outputs": [],
      "source": [
        "from sklearn.model_selection import train_test_split\n",
        "X_train, X_test, y_train, y_test = train_test_split(X, y, test_size = 0.25, random_state = 0)"
      ]
    },
    {
      "cell_type": "code",
      "execution_count": 9,
      "metadata": {
        "colab": {
          "base_uri": "https://localhost:8080/"
        },
        "id": "P3nS3-6r1i2B",
        "outputId": "ecf128e6-4973-4538-8acd-b3584cd64623"
      },
      "outputs": [
        {
          "output_type": "stream",
          "name": "stdout",
          "text": [
            "[[5.649e+03 0.000e+00 4.400e+01 3.600e+02 1.000e+00]\n",
            " [2.833e+03 1.857e+03 1.260e+02 3.600e+02 1.000e+00]\n",
            " [5.532e+03 4.648e+03 1.620e+02 3.600e+02 1.000e+00]\n",
            " ...\n",
            " [5.167e+03 3.167e+03 2.000e+02 3.600e+02 1.000e+00]\n",
            " [6.033e+03 0.000e+00 1.600e+02 3.600e+02 1.000e+00]\n",
            " [4.180e+03 2.306e+03 1.820e+02 3.600e+02 1.000e+00]]\n"
          ]
        }
      ],
      "source": [
        "print(X_train)"
      ]
    },
    {
      "cell_type": "code",
      "execution_count": 10,
      "metadata": {
        "colab": {
          "base_uri": "https://localhost:8080/"
        },
        "id": "8dpDLojm1mVG",
        "outputId": "f2ccb9ac-c2eb-442d-d5de-0b8ee514d9f8"
      },
      "outputs": [
        {
          "output_type": "stream",
          "name": "stdout",
          "text": [
            "[1 1 1 1 1 0 1 0 1 0 1 1 1 1 0 0 0 1 1 1 0 1 1 1 1 1 1 1 1 0 1 0 1 1 0 1 1\n",
            " 1 1 1 0 0 1 1 0 1 0 0 1 0 0 1 1 1 1 1 1 1 1 0 1 0 1 0 1 1 1 1 0 0 1 1 1 0\n",
            " 1 1 0 0 0 1 1 1 0 1 0 0 1 0 0 0 1 1 1 1 1 0 0 0 0 1 1 0 1 1 1 1 1 1 0 0 1\n",
            " 1 1 1 1 0 1 1 1 1 1 1 1 1 1 1 0 1 1 1 1 1 1 1 1 1 1 1 0 0 1 1 1 1 0 0 1 0\n",
            " 1 0 0 0 1 0 1 1 1 1 1 0 0 1 0 1 1 1 1 0 0 1 1 1 1 1 0 0 1 1 1 1 0 1 1 1 1\n",
            " 0 0 1 1 0 1 1 1 0 1 1 1 0 1 0 1 0 1 1 0 0 0 1 0 1 1 1 1 1 0 1 1 1 1 1 1 0\n",
            " 1 0 1 0 1 1 1 1 1 1 1 1 1 0 0 1 0 1 1 1 0 1 1 0 1 0 1 0 1 1 1 1 1 1 1 1 1\n",
            " 0 1 1 0 1 1 1 0 0 1 1 1 1 0 1 0 1 1 1 1 1 0 1 0 1 0 0 1 1 0 1 1 0 1 1 0 0\n",
            " 1 1 1 1 1 1 0 1 1 1 0 1 0 0 0 0 1 1 1 1 0 0 1 1 1 1 0 1 0 1 1 1 1 1 0 1 1\n",
            " 1 1 1 1 1 0 1 0 0 0 1 1 0 1 1 1 1 0 1 1 0 1 0 0 0 1 1 1 1 1 1 1 1 0 1 0 1\n",
            " 1 1 0 1 1 1 0 0 1 1 1 1 0 1 1 1 1 1 1 0 1 0 1 0 1 1 0 0 1 1 0 1 1 1 1 1 1\n",
            " 1 0 1 1 0 0 1 0 1 1 1 1 1 1 1 0 0 1 0 0 0 0 0 1 1 1 1 1 1 0 1 0 1 0 0 1 1\n",
            " 1 0 1 1 0 0 0 0 1 1 1 1 0 1 0 1]\n"
          ]
        }
      ],
      "source": [
        "print(y_train)"
      ]
    },
    {
      "cell_type": "code",
      "execution_count": 11,
      "metadata": {
        "colab": {
          "base_uri": "https://localhost:8080/"
        },
        "id": "qbb7i0DH1qui",
        "outputId": "332fc0ee-eddd-48f9-85da-e650077e9199"
      },
      "outputs": [
        {
          "output_type": "stream",
          "name": "stdout",
          "text": [
            "[[7.0850e+03 0.0000e+00 8.4000e+01 3.6000e+02 1.0000e+00]\n",
            " [4.2300e+03 0.0000e+00 1.1200e+02 3.6000e+02 1.0000e+00]\n",
            " [6.1330e+03 3.9060e+03 3.2400e+02 3.6000e+02 1.0000e+00]\n",
            " [4.3330e+03 2.4510e+03 1.1000e+02 3.6000e+02 1.0000e+00]\n",
            " [2.7080e+03 1.1670e+03 9.7000e+01 3.6000e+02 1.0000e+00]\n",
            " [2.6090e+03 3.4490e+03 1.6500e+02 1.8000e+02 0.0000e+00]\n",
            " [6.4170e+03 0.0000e+00 1.5700e+02 1.8000e+02 1.0000e+00]\n",
            " [1.2876e+04 0.0000e+00 4.0500e+02 3.6000e+02 1.0000e+00]\n",
            " [5.1240e+03 0.0000e+00 1.2400e+02 0.0000e+00 0.0000e+00]\n",
            " [2.0830e+03 3.1500e+03 1.2800e+02 3.6000e+02 1.0000e+00]\n",
            " [2.9170e+03 0.0000e+00 8.4000e+01 3.6000e+02 1.0000e+00]\n",
            " [2.8950e+03 0.0000e+00 9.5000e+01 3.6000e+02 1.0000e+00]\n",
            " [8.3330e+03 0.0000e+00 2.8000e+02 3.6000e+02 1.0000e+00]\n",
            " [5.0000e+03 3.6670e+03 2.3600e+02 3.6000e+02 1.0000e+00]\n",
            " [1.4880e+04 0.0000e+00 9.6000e+01 3.6000e+02 1.0000e+00]\n",
            " [3.8750e+03 0.0000e+00 6.7000e+01 3.6000e+02 1.0000e+00]\n",
            " [2.7690e+03 1.5420e+03 1.9000e+02 3.6000e+02 0.0000e+00]\n",
            " [2.3460e+03 1.6000e+03 1.3200e+02 3.6000e+02 1.0000e+00]\n",
            " [2.5000e+03 0.0000e+00 9.3000e+01 3.6000e+02 0.0000e+00]\n",
            " [2.4540e+03 2.3330e+03 1.8100e+02 3.6000e+02 0.0000e+00]\n",
            " [2.6450e+03 3.4400e+03 1.2000e+02 3.6000e+02 0.0000e+00]\n",
            " [2.4250e+03 2.3400e+03 1.4300e+02 3.6000e+02 1.0000e+00]\n",
            " [6.2500e+03 1.3000e+03 1.0800e+02 3.6000e+02 1.0000e+00]\n",
            " [8.3330e+03 3.1670e+03 1.6500e+02 3.6000e+02 1.0000e+00]\n",
            " [2.3830e+03 2.1380e+03 5.8000e+01 3.6000e+02 0.0000e+00]\n",
            " [6.0650e+03 2.0040e+03 2.5000e+02 3.6000e+02 1.0000e+00]\n",
            " [3.6600e+03 5.0640e+03 1.8700e+02 3.6000e+02 1.0000e+00]\n",
            " [5.7080e+03 5.6250e+03 1.8700e+02 3.6000e+02 1.0000e+00]\n",
            " [3.4300e+03 1.2500e+03 1.2800e+02 3.6000e+02 0.0000e+00]\n",
            " [5.0000e+03 0.0000e+00 1.0300e+02 3.6000e+02 0.0000e+00]\n",
            " [9.0830e+03 0.0000e+00 2.2800e+02 3.6000e+02 1.0000e+00]\n",
            " [4.8850e+03 0.0000e+00 4.8000e+01 3.6000e+02 1.0000e+00]\n",
            " [2.6000e+03 2.5000e+03 9.0000e+01 3.6000e+02 1.0000e+00]\n",
            " [7.9010e+03 1.8330e+03 1.8000e+02 3.6000e+02 1.0000e+00]\n",
            " [4.6520e+03 3.5830e+03 0.0000e+00 3.6000e+02 1.0000e+00]\n",
            " [2.1490e+03 3.2370e+03 1.7800e+02 3.6000e+02 0.0000e+00]\n",
            " [2.3830e+03 3.3340e+03 1.7200e+02 3.6000e+02 1.0000e+00]\n",
            " [2.5500e+03 2.0420e+03 1.2600e+02 3.6000e+02 1.0000e+00]\n",
            " [6.2500e+03 0.0000e+00 1.2800e+02 3.6000e+02 1.0000e+00]\n",
            " [3.6750e+03 2.4200e+02 1.0800e+02 3.6000e+02 1.0000e+00]\n",
            " [3.2440e+03 0.0000e+00 8.0000e+01 3.6000e+02 1.0000e+00]\n",
            " [3.4000e+03 2.5000e+03 1.2300e+02 3.6000e+02 0.0000e+00]\n",
            " [1.2990e+03 1.0860e+03 1.7000e+01 1.2000e+02 1.0000e+00]\n",
            " [4.5540e+03 1.2290e+03 1.5800e+02 3.6000e+02 1.0000e+00]\n",
            " [3.8580e+03 0.0000e+00 7.6000e+01 3.6000e+02 1.0000e+00]\n",
            " [8.3330e+03 3.7500e+03 1.8700e+02 3.6000e+02 1.0000e+00]\n",
            " [3.7500e+03 0.0000e+00 1.1600e+02 3.6000e+02 1.0000e+00]\n",
            " [4.5470e+03 0.0000e+00 1.1500e+02 3.6000e+02 1.0000e+00]\n",
            " [4.5830e+03 1.5080e+03 1.2800e+02 3.6000e+02 1.0000e+00]\n",
            " [4.0000e+03 2.5000e+03 1.4000e+02 3.6000e+02 1.0000e+00]\n",
            " [3.1730e+03 0.0000e+00 7.4000e+01 3.6000e+02 1.0000e+00]\n",
            " [4.7500e+03 2.3330e+03 1.3000e+02 3.6000e+02 1.0000e+00]\n",
            " [2.6000e+03 1.7000e+03 1.0700e+02 3.6000e+02 1.0000e+00]\n",
            " [3.8650e+03 1.6400e+03 0.0000e+00 3.6000e+02 1.0000e+00]\n",
            " [1.0250e+03 2.7730e+03 1.1200e+02 3.6000e+02 1.0000e+00]\n",
            " [6.3330e+03 4.5830e+03 2.5900e+02 3.6000e+02 0.0000e+00]\n",
            " [3.0330e+03 1.4590e+03 9.5000e+01 3.6000e+02 1.0000e+00]\n",
            " [6.2160e+03 0.0000e+00 1.3300e+02 3.6000e+02 1.0000e+00]\n",
            " [4.0060e+03 1.5260e+03 1.6800e+02 3.6000e+02 1.0000e+00]\n",
            " [4.1910e+03 0.0000e+00 1.2000e+02 3.6000e+02 1.0000e+00]\n",
            " [2.1370e+03 8.9800e+03 1.3700e+02 3.6000e+02 0.0000e+00]\n",
            " [1.0000e+04 0.0000e+00 2.1400e+02 3.6000e+02 1.0000e+00]\n",
            " [2.1670e+03 2.4000e+03 1.1500e+02 3.6000e+02 1.0000e+00]\n",
            " [3.5100e+03 0.0000e+00 7.6000e+01 3.6000e+02 0.0000e+00]\n",
            " [5.9350e+03 0.0000e+00 1.3300e+02 3.6000e+02 1.0000e+00]\n",
            " [5.9550e+03 5.6250e+03 3.1500e+02 3.6000e+02 1.0000e+00]\n",
            " [2.0830e+03 4.0830e+03 1.6000e+02 3.6000e+02 0.0000e+00]\n",
            " [2.3660e+03 2.5310e+03 1.3600e+02 3.6000e+02 1.0000e+00]\n",
            " [3.7070e+03 3.1660e+03 1.8200e+02 0.0000e+00 1.0000e+00]\n",
            " [2.6990e+03 2.7850e+03 9.6000e+01 3.6000e+02 0.0000e+00]\n",
            " [1.9160e+03 5.0630e+03 6.7000e+01 3.6000e+02 0.0000e+00]\n",
            " [2.4230e+03 5.0500e+02 1.3000e+02 3.6000e+02 1.0000e+00]\n",
            " [3.9870e+03 1.4110e+03 1.5700e+02 3.6000e+02 1.0000e+00]\n",
            " [6.6080e+03 0.0000e+00 1.3700e+02 1.8000e+02 1.0000e+00]\n",
            " [3.6670e+03 1.4590e+03 1.4400e+02 3.6000e+02 1.0000e+00]\n",
            " [3.8140e+03 1.4830e+03 1.2400e+02 3.0000e+02 1.0000e+00]\n",
            " [1.8360e+03 3.3837e+04 9.0000e+01 3.6000e+02 1.0000e+00]\n",
            " [1.2500e+04 3.0000e+03 3.2000e+02 3.6000e+02 1.0000e+00]\n",
            " [9.7030e+03 0.0000e+00 1.1200e+02 3.6000e+02 1.0000e+00]\n",
            " [4.1660e+03 0.0000e+00 1.1600e+02 3.6000e+02 0.0000e+00]\n",
            " [6.4500e+02 3.6830e+03 1.1300e+02 4.8000e+02 1.0000e+00]\n",
            " [1.8333e+04 0.0000e+00 5.0000e+02 3.6000e+02 1.0000e+00]\n",
            " [7.4410e+03 0.0000e+00 1.9400e+02 3.6000e+02 1.0000e+00]\n",
            " [7.5830e+03 0.0000e+00 1.8700e+02 3.6000e+02 1.0000e+00]\n",
            " [3.0690e+03 0.0000e+00 7.1000e+01 4.8000e+02 1.0000e+00]\n",
            " [4.6250e+03 2.8570e+03 1.1100e+02 1.2000e+01 0.0000e+00]\n",
            " [2.7850e+03 2.0160e+03 1.1000e+02 3.6000e+02 1.0000e+00]\n",
            " [3.0730e+03 8.1060e+03 2.0000e+02 3.6000e+02 1.0000e+00]\n",
            " [3.6670e+03 0.0000e+00 1.1300e+02 1.8000e+02 1.0000e+00]\n",
            " [2.4910e+03 2.0540e+03 1.0400e+02 3.6000e+02 1.0000e+00]\n",
            " [1.9280e+03 1.6440e+03 1.0000e+02 3.6000e+02 1.0000e+00]\n",
            " [3.1670e+03 0.0000e+00 7.4000e+01 3.6000e+02 1.0000e+00]\n",
            " [4.2830e+03 3.0000e+03 1.7200e+02 8.4000e+01 1.0000e+00]\n",
            " [3.1670e+03 4.0000e+03 1.8000e+02 3.0000e+02 0.0000e+00]\n",
            " [2.9000e+03 0.0000e+00 7.1000e+01 3.6000e+02 1.0000e+00]\n",
            " [3.2000e+03 2.2540e+03 1.2600e+02 1.8000e+02 0.0000e+00]\n",
            " [6.9500e+03 0.0000e+00 1.7500e+02 1.8000e+02 1.0000e+00]\n",
            " [2.9710e+03 2.7910e+03 1.4400e+02 3.6000e+02 1.0000e+00]\n",
            " [3.2730e+03 1.8200e+03 8.1000e+01 3.6000e+02 1.0000e+00]\n",
            " [9.5380e+03 0.0000e+00 1.8700e+02 3.6000e+02 1.0000e+00]\n",
            " [5.9230e+03 2.0540e+03 2.1100e+02 3.6000e+02 1.0000e+00]\n",
            " [1.8200e+03 1.7190e+03 1.0000e+02 3.6000e+02 1.0000e+00]\n",
            " [5.8190e+03 5.0000e+03 1.2000e+02 3.6000e+02 1.0000e+00]\n",
            " [6.0500e+03 4.3330e+03 1.2000e+02 1.8000e+02 1.0000e+00]\n",
            " [5.7030e+03 0.0000e+00 1.2800e+02 3.6000e+02 1.0000e+00]\n",
            " [4.9500e+03 0.0000e+00 1.2500e+02 3.6000e+02 1.0000e+00]\n",
            " [2.5830e+03 2.1670e+03 1.0400e+02 3.6000e+02 1.0000e+00]\n",
            " [3.4100e+03 0.0000e+00 8.8000e+01 0.0000e+00 1.0000e+00]\n",
            " [2.3330e+03 1.5160e+03 9.5000e+01 3.6000e+02 1.0000e+00]\n",
            " [3.5220e+03 0.0000e+00 8.1000e+01 1.8000e+02 1.0000e+00]\n",
            " [6.4000e+03 0.0000e+00 2.0000e+02 3.6000e+02 1.0000e+00]\n",
            " [3.4180e+03 0.0000e+00 1.3500e+02 3.6000e+02 1.0000e+00]\n",
            " [3.7500e+03 0.0000e+00 1.1300e+02 4.8000e+02 1.0000e+00]\n",
            " [3.2000e+03 7.0000e+02 7.0000e+01 3.6000e+02 1.0000e+00]\n",
            " [1.6680e+03 3.8900e+03 2.0100e+02 3.6000e+02 0.0000e+00]\n",
            " [2.4830e+03 2.4660e+03 9.0000e+01 1.8000e+02 0.0000e+00]\n",
            " [2.6670e+03 1.6250e+03 8.4000e+01 3.6000e+02 0.0000e+00]\n",
            " [2.0600e+03 2.2090e+03 1.3400e+02 3.6000e+02 1.0000e+00]\n",
            " [2.5000e+03 4.6000e+03 1.7600e+02 3.6000e+02 1.0000e+00]\n",
            " [8.7500e+03 4.9960e+03 1.3000e+02 3.6000e+02 1.0000e+00]\n",
            " [1.4583e+04 0.0000e+00 4.3600e+02 3.6000e+02 1.0000e+00]\n",
            " [2.9470e+03 1.6640e+03 7.0000e+01 1.8000e+02 0.0000e+00]\n",
            " [1.6250e+03 1.8030e+03 9.6000e+01 3.6000e+02 1.0000e+00]\n",
            " [2.9580e+03 2.9000e+03 1.3100e+02 3.6000e+02 1.0000e+00]\n",
            " [1.1250e+04 0.0000e+00 1.9600e+02 3.6000e+02 0.0000e+00]\n",
            " [3.9480e+03 1.7330e+03 1.4900e+02 3.6000e+02 0.0000e+00]\n",
            " [3.8130e+03 0.0000e+00 1.1600e+02 1.8000e+02 1.0000e+00]\n",
            " [4.7080e+03 1.3870e+03 1.5000e+02 3.6000e+02 1.0000e+00]\n",
            " [5.5680e+03 2.1420e+03 1.7500e+02 3.6000e+02 1.0000e+00]\n",
            " [1.1757e+04 0.0000e+00 1.8700e+02 1.8000e+02 1.0000e+00]\n",
            " [1.9630e+03 0.0000e+00 5.3000e+01 3.6000e+02 1.0000e+00]\n",
            " [3.6760e+03 4.3010e+03 1.7200e+02 3.6000e+02 1.0000e+00]\n",
            " [2.5000e+03 0.0000e+00 9.6000e+01 4.8000e+02 1.0000e+00]\n",
            " [2.3780e+03 0.0000e+00 9.0000e+00 3.6000e+02 1.0000e+00]\n",
            " [5.5000e+03 1.2600e+03 1.7000e+02 3.6000e+02 1.0000e+00]\n",
            " [3.3150e+03 0.0000e+00 9.6000e+01 3.6000e+02 1.0000e+00]\n",
            " [3.3990e+03 1.6400e+03 1.1100e+02 1.8000e+02 1.0000e+00]\n",
            " [3.5410e+03 0.0000e+00 1.1200e+02 3.6000e+02 0.0000e+00]\n",
            " [2.7180e+03 0.0000e+00 7.0000e+01 3.6000e+02 1.0000e+00]\n",
            " [3.3330e+03 0.0000e+00 7.0000e+01 3.6000e+02 1.0000e+00]\n",
            " [4.1000e+03 0.0000e+00 1.2400e+02 3.6000e+02 0.0000e+00]\n",
            " [1.7263e+04 0.0000e+00 2.2500e+02 3.6000e+02 1.0000e+00]\n",
            " [3.0000e+03 1.6660e+03 1.0000e+02 4.8000e+02 0.0000e+00]\n",
            " [2.6660e+03 4.3000e+03 1.2100e+02 3.6000e+02 1.0000e+00]\n",
            " [9.3570e+03 0.0000e+00 2.9200e+02 3.6000e+02 1.0000e+00]\n",
            " [2.0233e+04 0.0000e+00 4.8000e+02 3.6000e+02 1.0000e+00]\n",
            " [2.4840e+03 2.3020e+03 1.3700e+02 3.6000e+02 1.0000e+00]\n",
            " [3.7719e+04 0.0000e+00 1.5200e+02 3.6000e+02 1.0000e+00]\n",
            " [3.5880e+03 0.0000e+00 1.1000e+02 3.6000e+02 0.0000e+00]\n",
            " [1.5000e+03 1.8000e+03 1.0300e+02 3.6000e+02 0.0000e+00]\n",
            " [5.6950e+03 4.1670e+03 1.7500e+02 3.6000e+02 1.0000e+00]\n",
            " [1.1146e+04 0.0000e+00 1.3600e+02 3.6000e+02 1.0000e+00]\n",
            " [5.8000e+03 0.0000e+00 1.3200e+02 3.6000e+02 1.0000e+00]\n",
            " [3.0890e+03 1.2800e+03 1.2100e+02 3.6000e+02 0.0000e+00]]\n"
          ]
        }
      ],
      "source": [
        "print(X_test)"
      ]
    },
    {
      "cell_type": "code",
      "execution_count": 12,
      "metadata": {
        "id": "kj1hnFAR1s5w",
        "colab": {
          "base_uri": "https://localhost:8080/"
        },
        "outputId": "c0328b10-9db9-42d1-a712-8a4ea1468e23"
      },
      "outputs": [
        {
          "output_type": "stream",
          "name": "stdout",
          "text": [
            "[1 0 1 0 1 0 1 1 0 1 1 1 1 1 1 0 0 1 1 0 0 1 1 1 1 1 1 1 0 0 1 1 1 1 1 0 1\n",
            " 1 1 1 1 0 1 1 1 1 1 1 0 1 1 1 1 1 1 1 1 0 1 1 1 0 1 0 1 1 1 1 1 1 0 1 1 1\n",
            " 1 1 0 0 1 0 1 0 0 1 0 1 1 1 1 1 1 0 0 0 1 0 1 1 1 1 1 1 1 0 1 1 1 1 1 0 1\n",
            " 0 0 1 0 1 1 1 1 1 1 0 1 1 0 0 1 1 0 1 1 1 0 0 1 1 1 1 1 1 1 1 0 1 1 0 1 1\n",
            " 0 0 1 1 1 0]\n"
          ]
        }
      ],
      "source": [
        "print(y_test)"
      ]
    },
    {
      "cell_type": "markdown",
      "metadata": {
        "id": "kW3c7UYih0hT"
      },
      "source": [
        "## Feature Scaling"
      ]
    },
    {
      "cell_type": "code",
      "execution_count": 13,
      "metadata": {
        "id": "9fQlDPKCh8sc"
      },
      "outputs": [],
      "source": [
        "from sklearn.preprocessing import StandardScaler\n",
        "sc = StandardScaler()\n",
        "X_train = sc.fit_transform(X_train)\n",
        "X_test = sc.transform(X_test) #avoid data leakage"
      ]
    },
    {
      "cell_type": "code",
      "execution_count": 14,
      "metadata": {
        "colab": {
          "base_uri": "https://localhost:8080/"
        },
        "id": "syrnD1Op2BSR",
        "outputId": "f2851067-f37b-4e85-c162-d95296df99fb"
      },
      "outputs": [
        {
          "output_type": "stream",
          "name": "stdout",
          "text": [
            "[[ 0.01432867 -0.54771968 -1.05556014  0.31924724  0.54720657]\n",
            " [-0.41169991  0.10362304 -0.1644093   0.31924724  0.54720657]\n",
            " [-0.00337209  1.08256626  0.22682766  0.31924724  0.54720657]\n",
            " ...\n",
            " [-0.05859241  0.56310553  0.6398      0.31924724  0.54720657]\n",
            " [ 0.07242348 -0.54771968  0.20509227  0.31924724  0.54720657]\n",
            " [-0.20791422  0.26110979  0.44418152  0.31924724  0.54720657]]\n"
          ]
        }
      ],
      "source": [
        "print(X_train)"
      ]
    },
    {
      "cell_type": "code",
      "execution_count": 15,
      "metadata": {
        "colab": {
          "base_uri": "https://localhost:8080/"
        },
        "id": "JUd6iBRp2C3L",
        "outputId": "53575917-acce-458d-c61c-100affdda910"
      },
      "outputs": [
        {
          "output_type": "stream",
          "name": "stdout",
          "text": [
            "float64\n"
          ]
        }
      ],
      "source": [
        "print(X_test.dtype)"
      ]
    },
    {
      "cell_type": "markdown",
      "metadata": {
        "id": "bb6jCOCQiAmP"
      },
      "source": [
        "## Training the K-NN model on the Training set"
      ]
    },
    {
      "cell_type": "code",
      "execution_count": 16,
      "metadata": {
        "id": "8PkdE-i4-vY0"
      },
      "outputs": [],
      "source": [
        "from math import sqrt\n",
        "class KNN():\n",
        "  def __init__(self,k):\n",
        "    self.k=k\n",
        "    print(self.k)\n",
        "  def fit(self,X_train,y_train):\n",
        "    self.x_train=X_train\n",
        "    self.y_train=y_train\n",
        "  def calculate_euclidean(self,sample1,sample2):\n",
        "    distance=0.0\n",
        "    for i in range(len(sample1)):\n",
        "      distance+=(sample1[i]-sample2[i])**2 #Euclidean Distance = sqrt(sum i to N (x1_i – x2_i)^2)\n",
        "    return sqrt(distance)\n",
        "  def nearest_neighbors(self,test_sample):\n",
        "    distances=[]#calculate distances from a test sample to every sample in a training set\n",
        "    for i in range(len(self.x_train)):\n",
        "      distances.append((self.y_train[i],self.calculate_euclidean(self.x_train[i],test_sample)))\n",
        "    distances.sort(key=lambda x:x[1])#sort in ascending order, based on a distance value\n",
        "    neighbors=[]\n",
        "    for i in range(self.k): #get first k samples\n",
        "      neighbors.append(distances[i][0])\n",
        "    return neighbors\n",
        "  def predict(self,test_set):\n",
        "    predictions=[]\n",
        "    for test_sample in test_set:\n",
        "      neighbors=self.nearest_neighbors(test_sample)\n",
        "      labels=[sample for sample in neighbors]\n",
        "      prediction=max(labels,key=labels.count)\n",
        "      predictions.append(prediction)\n",
        "    return predictions\n"
      ]
    },
    {
      "cell_type": "code",
      "execution_count": 17,
      "metadata": {
        "colab": {
          "base_uri": "https://localhost:8080/"
        },
        "id": "sx7G6PLd-xzd",
        "outputId": "f3d5aa3c-17ff-434e-b8d7-dace7c66fb65"
      },
      "outputs": [
        {
          "output_type": "stream",
          "name": "stdout",
          "text": [
            "5\n"
          ]
        }
      ],
      "source": [
        "model=KNN(5) #our model\n",
        "model.fit(X_train,y_train)"
      ]
    },
    {
      "cell_type": "code",
      "execution_count": 18,
      "metadata": {
        "colab": {
          "base_uri": "https://localhost:8080/",
          "height": 80
        },
        "id": "e0pFVAmciHQs",
        "outputId": "e4ec9ea8-124b-42a6-818f-674182afc78c"
      },
      "outputs": [
        {
          "output_type": "execute_result",
          "data": {
            "text/plain": [
              "KNeighborsClassifier()"
            ],
            "text/html": [
              "<style>#sk-container-id-1 {\n",
              "  /* Definition of color scheme common for light and dark mode */\n",
              "  --sklearn-color-text: #000;\n",
              "  --sklearn-color-text-muted: #666;\n",
              "  --sklearn-color-line: gray;\n",
              "  /* Definition of color scheme for unfitted estimators */\n",
              "  --sklearn-color-unfitted-level-0: #fff5e6;\n",
              "  --sklearn-color-unfitted-level-1: #f6e4d2;\n",
              "  --sklearn-color-unfitted-level-2: #ffe0b3;\n",
              "  --sklearn-color-unfitted-level-3: chocolate;\n",
              "  /* Definition of color scheme for fitted estimators */\n",
              "  --sklearn-color-fitted-level-0: #f0f8ff;\n",
              "  --sklearn-color-fitted-level-1: #d4ebff;\n",
              "  --sklearn-color-fitted-level-2: #b3dbfd;\n",
              "  --sklearn-color-fitted-level-3: cornflowerblue;\n",
              "\n",
              "  /* Specific color for light theme */\n",
              "  --sklearn-color-text-on-default-background: var(--sg-text-color, var(--theme-code-foreground, var(--jp-content-font-color1, black)));\n",
              "  --sklearn-color-background: var(--sg-background-color, var(--theme-background, var(--jp-layout-color0, white)));\n",
              "  --sklearn-color-border-box: var(--sg-text-color, var(--theme-code-foreground, var(--jp-content-font-color1, black)));\n",
              "  --sklearn-color-icon: #696969;\n",
              "\n",
              "  @media (prefers-color-scheme: dark) {\n",
              "    /* Redefinition of color scheme for dark theme */\n",
              "    --sklearn-color-text-on-default-background: var(--sg-text-color, var(--theme-code-foreground, var(--jp-content-font-color1, white)));\n",
              "    --sklearn-color-background: var(--sg-background-color, var(--theme-background, var(--jp-layout-color0, #111)));\n",
              "    --sklearn-color-border-box: var(--sg-text-color, var(--theme-code-foreground, var(--jp-content-font-color1, white)));\n",
              "    --sklearn-color-icon: #878787;\n",
              "  }\n",
              "}\n",
              "\n",
              "#sk-container-id-1 {\n",
              "  color: var(--sklearn-color-text);\n",
              "}\n",
              "\n",
              "#sk-container-id-1 pre {\n",
              "  padding: 0;\n",
              "}\n",
              "\n",
              "#sk-container-id-1 input.sk-hidden--visually {\n",
              "  border: 0;\n",
              "  clip: rect(1px 1px 1px 1px);\n",
              "  clip: rect(1px, 1px, 1px, 1px);\n",
              "  height: 1px;\n",
              "  margin: -1px;\n",
              "  overflow: hidden;\n",
              "  padding: 0;\n",
              "  position: absolute;\n",
              "  width: 1px;\n",
              "}\n",
              "\n",
              "#sk-container-id-1 div.sk-dashed-wrapped {\n",
              "  border: 1px dashed var(--sklearn-color-line);\n",
              "  margin: 0 0.4em 0.5em 0.4em;\n",
              "  box-sizing: border-box;\n",
              "  padding-bottom: 0.4em;\n",
              "  background-color: var(--sklearn-color-background);\n",
              "}\n",
              "\n",
              "#sk-container-id-1 div.sk-container {\n",
              "  /* jupyter's `normalize.less` sets `[hidden] { display: none; }`\n",
              "     but bootstrap.min.css set `[hidden] { display: none !important; }`\n",
              "     so we also need the `!important` here to be able to override the\n",
              "     default hidden behavior on the sphinx rendered scikit-learn.org.\n",
              "     See: https://github.com/scikit-learn/scikit-learn/issues/21755 */\n",
              "  display: inline-block !important;\n",
              "  position: relative;\n",
              "}\n",
              "\n",
              "#sk-container-id-1 div.sk-text-repr-fallback {\n",
              "  display: none;\n",
              "}\n",
              "\n",
              "div.sk-parallel-item,\n",
              "div.sk-serial,\n",
              "div.sk-item {\n",
              "  /* draw centered vertical line to link estimators */\n",
              "  background-image: linear-gradient(var(--sklearn-color-text-on-default-background), var(--sklearn-color-text-on-default-background));\n",
              "  background-size: 2px 100%;\n",
              "  background-repeat: no-repeat;\n",
              "  background-position: center center;\n",
              "}\n",
              "\n",
              "/* Parallel-specific style estimator block */\n",
              "\n",
              "#sk-container-id-1 div.sk-parallel-item::after {\n",
              "  content: \"\";\n",
              "  width: 100%;\n",
              "  border-bottom: 2px solid var(--sklearn-color-text-on-default-background);\n",
              "  flex-grow: 1;\n",
              "}\n",
              "\n",
              "#sk-container-id-1 div.sk-parallel {\n",
              "  display: flex;\n",
              "  align-items: stretch;\n",
              "  justify-content: center;\n",
              "  background-color: var(--sklearn-color-background);\n",
              "  position: relative;\n",
              "}\n",
              "\n",
              "#sk-container-id-1 div.sk-parallel-item {\n",
              "  display: flex;\n",
              "  flex-direction: column;\n",
              "}\n",
              "\n",
              "#sk-container-id-1 div.sk-parallel-item:first-child::after {\n",
              "  align-self: flex-end;\n",
              "  width: 50%;\n",
              "}\n",
              "\n",
              "#sk-container-id-1 div.sk-parallel-item:last-child::after {\n",
              "  align-self: flex-start;\n",
              "  width: 50%;\n",
              "}\n",
              "\n",
              "#sk-container-id-1 div.sk-parallel-item:only-child::after {\n",
              "  width: 0;\n",
              "}\n",
              "\n",
              "/* Serial-specific style estimator block */\n",
              "\n",
              "#sk-container-id-1 div.sk-serial {\n",
              "  display: flex;\n",
              "  flex-direction: column;\n",
              "  align-items: center;\n",
              "  background-color: var(--sklearn-color-background);\n",
              "  padding-right: 1em;\n",
              "  padding-left: 1em;\n",
              "}\n",
              "\n",
              "\n",
              "/* Toggleable style: style used for estimator/Pipeline/ColumnTransformer box that is\n",
              "clickable and can be expanded/collapsed.\n",
              "- Pipeline and ColumnTransformer use this feature and define the default style\n",
              "- Estimators will overwrite some part of the style using the `sk-estimator` class\n",
              "*/\n",
              "\n",
              "/* Pipeline and ColumnTransformer style (default) */\n",
              "\n",
              "#sk-container-id-1 div.sk-toggleable {\n",
              "  /* Default theme specific background. It is overwritten whether we have a\n",
              "  specific estimator or a Pipeline/ColumnTransformer */\n",
              "  background-color: var(--sklearn-color-background);\n",
              "}\n",
              "\n",
              "/* Toggleable label */\n",
              "#sk-container-id-1 label.sk-toggleable__label {\n",
              "  cursor: pointer;\n",
              "  display: flex;\n",
              "  width: 100%;\n",
              "  margin-bottom: 0;\n",
              "  padding: 0.5em;\n",
              "  box-sizing: border-box;\n",
              "  text-align: center;\n",
              "  align-items: start;\n",
              "  justify-content: space-between;\n",
              "  gap: 0.5em;\n",
              "}\n",
              "\n",
              "#sk-container-id-1 label.sk-toggleable__label .caption {\n",
              "  font-size: 0.6rem;\n",
              "  font-weight: lighter;\n",
              "  color: var(--sklearn-color-text-muted);\n",
              "}\n",
              "\n",
              "#sk-container-id-1 label.sk-toggleable__label-arrow:before {\n",
              "  /* Arrow on the left of the label */\n",
              "  content: \"▸\";\n",
              "  float: left;\n",
              "  margin-right: 0.25em;\n",
              "  color: var(--sklearn-color-icon);\n",
              "}\n",
              "\n",
              "#sk-container-id-1 label.sk-toggleable__label-arrow:hover:before {\n",
              "  color: var(--sklearn-color-text);\n",
              "}\n",
              "\n",
              "/* Toggleable content - dropdown */\n",
              "\n",
              "#sk-container-id-1 div.sk-toggleable__content {\n",
              "  max-height: 0;\n",
              "  max-width: 0;\n",
              "  overflow: hidden;\n",
              "  text-align: left;\n",
              "  /* unfitted */\n",
              "  background-color: var(--sklearn-color-unfitted-level-0);\n",
              "}\n",
              "\n",
              "#sk-container-id-1 div.sk-toggleable__content.fitted {\n",
              "  /* fitted */\n",
              "  background-color: var(--sklearn-color-fitted-level-0);\n",
              "}\n",
              "\n",
              "#sk-container-id-1 div.sk-toggleable__content pre {\n",
              "  margin: 0.2em;\n",
              "  border-radius: 0.25em;\n",
              "  color: var(--sklearn-color-text);\n",
              "  /* unfitted */\n",
              "  background-color: var(--sklearn-color-unfitted-level-0);\n",
              "}\n",
              "\n",
              "#sk-container-id-1 div.sk-toggleable__content.fitted pre {\n",
              "  /* unfitted */\n",
              "  background-color: var(--sklearn-color-fitted-level-0);\n",
              "}\n",
              "\n",
              "#sk-container-id-1 input.sk-toggleable__control:checked~div.sk-toggleable__content {\n",
              "  /* Expand drop-down */\n",
              "  max-height: 200px;\n",
              "  max-width: 100%;\n",
              "  overflow: auto;\n",
              "}\n",
              "\n",
              "#sk-container-id-1 input.sk-toggleable__control:checked~label.sk-toggleable__label-arrow:before {\n",
              "  content: \"▾\";\n",
              "}\n",
              "\n",
              "/* Pipeline/ColumnTransformer-specific style */\n",
              "\n",
              "#sk-container-id-1 div.sk-label input.sk-toggleable__control:checked~label.sk-toggleable__label {\n",
              "  color: var(--sklearn-color-text);\n",
              "  background-color: var(--sklearn-color-unfitted-level-2);\n",
              "}\n",
              "\n",
              "#sk-container-id-1 div.sk-label.fitted input.sk-toggleable__control:checked~label.sk-toggleable__label {\n",
              "  background-color: var(--sklearn-color-fitted-level-2);\n",
              "}\n",
              "\n",
              "/* Estimator-specific style */\n",
              "\n",
              "/* Colorize estimator box */\n",
              "#sk-container-id-1 div.sk-estimator input.sk-toggleable__control:checked~label.sk-toggleable__label {\n",
              "  /* unfitted */\n",
              "  background-color: var(--sklearn-color-unfitted-level-2);\n",
              "}\n",
              "\n",
              "#sk-container-id-1 div.sk-estimator.fitted input.sk-toggleable__control:checked~label.sk-toggleable__label {\n",
              "  /* fitted */\n",
              "  background-color: var(--sklearn-color-fitted-level-2);\n",
              "}\n",
              "\n",
              "#sk-container-id-1 div.sk-label label.sk-toggleable__label,\n",
              "#sk-container-id-1 div.sk-label label {\n",
              "  /* The background is the default theme color */\n",
              "  color: var(--sklearn-color-text-on-default-background);\n",
              "}\n",
              "\n",
              "/* On hover, darken the color of the background */\n",
              "#sk-container-id-1 div.sk-label:hover label.sk-toggleable__label {\n",
              "  color: var(--sklearn-color-text);\n",
              "  background-color: var(--sklearn-color-unfitted-level-2);\n",
              "}\n",
              "\n",
              "/* Label box, darken color on hover, fitted */\n",
              "#sk-container-id-1 div.sk-label.fitted:hover label.sk-toggleable__label.fitted {\n",
              "  color: var(--sklearn-color-text);\n",
              "  background-color: var(--sklearn-color-fitted-level-2);\n",
              "}\n",
              "\n",
              "/* Estimator label */\n",
              "\n",
              "#sk-container-id-1 div.sk-label label {\n",
              "  font-family: monospace;\n",
              "  font-weight: bold;\n",
              "  display: inline-block;\n",
              "  line-height: 1.2em;\n",
              "}\n",
              "\n",
              "#sk-container-id-1 div.sk-label-container {\n",
              "  text-align: center;\n",
              "}\n",
              "\n",
              "/* Estimator-specific */\n",
              "#sk-container-id-1 div.sk-estimator {\n",
              "  font-family: monospace;\n",
              "  border: 1px dotted var(--sklearn-color-border-box);\n",
              "  border-radius: 0.25em;\n",
              "  box-sizing: border-box;\n",
              "  margin-bottom: 0.5em;\n",
              "  /* unfitted */\n",
              "  background-color: var(--sklearn-color-unfitted-level-0);\n",
              "}\n",
              "\n",
              "#sk-container-id-1 div.sk-estimator.fitted {\n",
              "  /* fitted */\n",
              "  background-color: var(--sklearn-color-fitted-level-0);\n",
              "}\n",
              "\n",
              "/* on hover */\n",
              "#sk-container-id-1 div.sk-estimator:hover {\n",
              "  /* unfitted */\n",
              "  background-color: var(--sklearn-color-unfitted-level-2);\n",
              "}\n",
              "\n",
              "#sk-container-id-1 div.sk-estimator.fitted:hover {\n",
              "  /* fitted */\n",
              "  background-color: var(--sklearn-color-fitted-level-2);\n",
              "}\n",
              "\n",
              "/* Specification for estimator info (e.g. \"i\" and \"?\") */\n",
              "\n",
              "/* Common style for \"i\" and \"?\" */\n",
              "\n",
              ".sk-estimator-doc-link,\n",
              "a:link.sk-estimator-doc-link,\n",
              "a:visited.sk-estimator-doc-link {\n",
              "  float: right;\n",
              "  font-size: smaller;\n",
              "  line-height: 1em;\n",
              "  font-family: monospace;\n",
              "  background-color: var(--sklearn-color-background);\n",
              "  border-radius: 1em;\n",
              "  height: 1em;\n",
              "  width: 1em;\n",
              "  text-decoration: none !important;\n",
              "  margin-left: 0.5em;\n",
              "  text-align: center;\n",
              "  /* unfitted */\n",
              "  border: var(--sklearn-color-unfitted-level-1) 1pt solid;\n",
              "  color: var(--sklearn-color-unfitted-level-1);\n",
              "}\n",
              "\n",
              ".sk-estimator-doc-link.fitted,\n",
              "a:link.sk-estimator-doc-link.fitted,\n",
              "a:visited.sk-estimator-doc-link.fitted {\n",
              "  /* fitted */\n",
              "  border: var(--sklearn-color-fitted-level-1) 1pt solid;\n",
              "  color: var(--sklearn-color-fitted-level-1);\n",
              "}\n",
              "\n",
              "/* On hover */\n",
              "div.sk-estimator:hover .sk-estimator-doc-link:hover,\n",
              ".sk-estimator-doc-link:hover,\n",
              "div.sk-label-container:hover .sk-estimator-doc-link:hover,\n",
              ".sk-estimator-doc-link:hover {\n",
              "  /* unfitted */\n",
              "  background-color: var(--sklearn-color-unfitted-level-3);\n",
              "  color: var(--sklearn-color-background);\n",
              "  text-decoration: none;\n",
              "}\n",
              "\n",
              "div.sk-estimator.fitted:hover .sk-estimator-doc-link.fitted:hover,\n",
              ".sk-estimator-doc-link.fitted:hover,\n",
              "div.sk-label-container:hover .sk-estimator-doc-link.fitted:hover,\n",
              ".sk-estimator-doc-link.fitted:hover {\n",
              "  /* fitted */\n",
              "  background-color: var(--sklearn-color-fitted-level-3);\n",
              "  color: var(--sklearn-color-background);\n",
              "  text-decoration: none;\n",
              "}\n",
              "\n",
              "/* Span, style for the box shown on hovering the info icon */\n",
              ".sk-estimator-doc-link span {\n",
              "  display: none;\n",
              "  z-index: 9999;\n",
              "  position: relative;\n",
              "  font-weight: normal;\n",
              "  right: .2ex;\n",
              "  padding: .5ex;\n",
              "  margin: .5ex;\n",
              "  width: min-content;\n",
              "  min-width: 20ex;\n",
              "  max-width: 50ex;\n",
              "  color: var(--sklearn-color-text);\n",
              "  box-shadow: 2pt 2pt 4pt #999;\n",
              "  /* unfitted */\n",
              "  background: var(--sklearn-color-unfitted-level-0);\n",
              "  border: .5pt solid var(--sklearn-color-unfitted-level-3);\n",
              "}\n",
              "\n",
              ".sk-estimator-doc-link.fitted span {\n",
              "  /* fitted */\n",
              "  background: var(--sklearn-color-fitted-level-0);\n",
              "  border: var(--sklearn-color-fitted-level-3);\n",
              "}\n",
              "\n",
              ".sk-estimator-doc-link:hover span {\n",
              "  display: block;\n",
              "}\n",
              "\n",
              "/* \"?\"-specific style due to the `<a>` HTML tag */\n",
              "\n",
              "#sk-container-id-1 a.estimator_doc_link {\n",
              "  float: right;\n",
              "  font-size: 1rem;\n",
              "  line-height: 1em;\n",
              "  font-family: monospace;\n",
              "  background-color: var(--sklearn-color-background);\n",
              "  border-radius: 1rem;\n",
              "  height: 1rem;\n",
              "  width: 1rem;\n",
              "  text-decoration: none;\n",
              "  /* unfitted */\n",
              "  color: var(--sklearn-color-unfitted-level-1);\n",
              "  border: var(--sklearn-color-unfitted-level-1) 1pt solid;\n",
              "}\n",
              "\n",
              "#sk-container-id-1 a.estimator_doc_link.fitted {\n",
              "  /* fitted */\n",
              "  border: var(--sklearn-color-fitted-level-1) 1pt solid;\n",
              "  color: var(--sklearn-color-fitted-level-1);\n",
              "}\n",
              "\n",
              "/* On hover */\n",
              "#sk-container-id-1 a.estimator_doc_link:hover {\n",
              "  /* unfitted */\n",
              "  background-color: var(--sklearn-color-unfitted-level-3);\n",
              "  color: var(--sklearn-color-background);\n",
              "  text-decoration: none;\n",
              "}\n",
              "\n",
              "#sk-container-id-1 a.estimator_doc_link.fitted:hover {\n",
              "  /* fitted */\n",
              "  background-color: var(--sklearn-color-fitted-level-3);\n",
              "}\n",
              "</style><div id=\"sk-container-id-1\" class=\"sk-top-container\"><div class=\"sk-text-repr-fallback\"><pre>KNeighborsClassifier()</pre><b>In a Jupyter environment, please rerun this cell to show the HTML representation or trust the notebook. <br />On GitHub, the HTML representation is unable to render, please try loading this page with nbviewer.org.</b></div><div class=\"sk-container\" hidden><div class=\"sk-item\"><div class=\"sk-estimator fitted sk-toggleable\"><input class=\"sk-toggleable__control sk-hidden--visually\" id=\"sk-estimator-id-1\" type=\"checkbox\" checked><label for=\"sk-estimator-id-1\" class=\"sk-toggleable__label fitted sk-toggleable__label-arrow\"><div><div>KNeighborsClassifier</div></div><div><a class=\"sk-estimator-doc-link fitted\" rel=\"noreferrer\" target=\"_blank\" href=\"https://scikit-learn.org/1.6/modules/generated/sklearn.neighbors.KNeighborsClassifier.html\">?<span>Documentation for KNeighborsClassifier</span></a><span class=\"sk-estimator-doc-link fitted\">i<span>Fitted</span></span></div></label><div class=\"sk-toggleable__content fitted\"><pre>KNeighborsClassifier()</pre></div> </div></div></div></div>"
            ]
          },
          "metadata": {},
          "execution_count": 18
        }
      ],
      "source": [
        "from sklearn.neighbors import KNeighborsClassifier\n",
        "classifier = KNeighborsClassifier(n_neighbors = 5, metric = 'minkowski', p = 2)#The default metric is minkowski, and with p=2 is equivalent to the standard Euclidean metric.\n",
        "classifier.fit(X_train, y_train)"
      ]
    },
    {
      "cell_type": "markdown",
      "metadata": {
        "id": "vKYVQH-l5NpE"
      },
      "source": [
        "## Predicting the Test set results"
      ]
    },
    {
      "cell_type": "code",
      "execution_count": 19,
      "metadata": {
        "id": "p6VMTb2O4hwM"
      },
      "outputs": [],
      "source": [
        "y_pred = classifier.predict(X_test)"
      ]
    },
    {
      "cell_type": "code",
      "execution_count": 20,
      "metadata": {
        "id": "YQOlUC3sA2sB"
      },
      "outputs": [],
      "source": [
        "predictions=model.predict(X_test)#our model's predictions"
      ]
    },
    {
      "cell_type": "markdown",
      "metadata": {
        "id": "h4Hwj34ziWQW"
      },
      "source": [
        "## Making the Confusion Matrix to compare both models"
      ]
    },
    {
      "cell_type": "code",
      "execution_count": 21,
      "metadata": {
        "colab": {
          "base_uri": "https://localhost:8080/"
        },
        "id": "D6bpZwUiiXic",
        "outputId": "83d18bc1-b728-4d97-9296-a68f8a0f4709"
      },
      "outputs": [
        {
          "output_type": "stream",
          "name": "stdout",
          "text": [
            "[[21 22]\n",
            " [14 97]]\n"
          ]
        },
        {
          "output_type": "execute_result",
          "data": {
            "text/plain": [
              "0.7662337662337663"
            ]
          },
          "metadata": {},
          "execution_count": 21
        }
      ],
      "source": [
        "from sklearn.metrics import confusion_matrix, accuracy_score\n",
        "cm = confusion_matrix(y_test, y_pred)\n",
        "print(cm)\n",
        "accuracy_score(y_test, y_pred)"
      ]
    },
    {
      "cell_type": "code",
      "execution_count": 22,
      "metadata": {
        "colab": {
          "base_uri": "https://localhost:8080/"
        },
        "id": "kxEx6t8pA8hE",
        "outputId": "2f9bb16c-ed26-4390-b308-74952ba38eaa"
      },
      "outputs": [
        {
          "output_type": "stream",
          "name": "stdout",
          "text": [
            "[[21 22]\n",
            " [14 97]]\n"
          ]
        },
        {
          "output_type": "execute_result",
          "data": {
            "text/plain": [
              "0.7662337662337663"
            ]
          },
          "metadata": {},
          "execution_count": 22
        }
      ],
      "source": [
        "cm = confusion_matrix(y_test, predictions) #our model\n",
        "print(cm)\n",
        "accuracy_score(y_test, predictions)"
      ]
    },
    {
      "cell_type": "markdown",
      "metadata": {
        "id": "6OMC_P0diaoD"
      },
      "source": [
        "## Visualising the Test set results"
      ]
    },
    {
      "cell_type": "code",
      "source": [
        "import seaborn as sns\n",
        "import matplotlib.pyplot as plt\n",
        "\n",
        "import pandas as pd\n",
        "data = pd.read_csv('loan_prediction.csv')\n",
        "\n",
        "sns.scatterplot(x='LoanAmount', y='ApplicantIncome', hue='Loan_Status', data=data)\n",
        "plt.title('Loan Amount vs. Applicant Income')\n",
        "plt.xlabel('Loan Amount')\n",
        "plt.ylabel('Applicant Income')\n",
        "plt.show()"
      ],
      "metadata": {
        "colab": {
          "base_uri": "https://localhost:8080/",
          "height": 472
        },
        "id": "dMwP8mhKF6AI",
        "outputId": "4ab8d502-3ba0-4b64-fc55-1c99ed33b663"
      },
      "execution_count": 23,
      "outputs": [
        {
          "output_type": "display_data",
          "data": {
            "text/plain": [
              "<Figure size 640x480 with 1 Axes>"
            ],
            "image/png": "[encoded data removed]"
          },
          "metadata": {}
        }
      ]
    }
  ],
  "metadata": {
    "colab": {
      "machine_shape": "hm",
      "provenance": [],
      "toc_visible": true
    },
    "kernelspec": {
      "display_name": "Python 3.8.13 ('tf26p38gpu-riset')",
      "language": "python",
      "name": "python3"
    },
    "language_info": {
      "codemirror_mode": {
        "name": "ipython",
        "version": 3
      },
      "file_extension": ".py",
      "mimetype": "text/x-python",
      "name": "python",
      "nbconvert_exporter": "python",
      "pygments_lexer": "ipython3",
      "version": "3.8.13"
    },
    "vscode": {
      "interpreter": {
        "hash": "1f25b7125f6d016f1a2196ebcb79236770b2f4743b020ee153e77d05bf60e445"
      }
    }
  },
  "nbformat": 4,
  "nbformat_minor": 0
}